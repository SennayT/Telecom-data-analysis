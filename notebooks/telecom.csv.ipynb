{
 "cells": [
  {
   "cell_type": "code",
   "execution_count": 1,
   "metadata": {
    "collapsed": true,
    "pycharm": {
     "name": "#%%\n"
    }
   },
   "outputs": [],
   "source": [
    "import pandas as pd\n",
    "import numpy as np\n",
    "import seaborn as sns\n",
    "import matplotlib.pyplot as plt"
   ]
  },
  {
   "cell_type": "code",
   "execution_count": 2,
   "outputs": [
    {
     "data": {
      "text/plain": "      Bearer Id            Start  Start ms              End  End ms  \\\n0  1.311448e+19   4/4/2019 12:01     770.0  4/25/2019 14:35   662.0   \n1  1.311448e+19   4/9/2019 13:04     235.0   4/25/2019 8:15   606.0   \n2  1.311448e+19   4/9/2019 17:42       1.0  4/25/2019 11:58   652.0   \n3  1.311448e+19   4/10/2019 0:31     486.0   4/25/2019 7:36   171.0   \n4  1.311448e+19  4/12/2019 20:10     565.0  4/25/2019 10:40   954.0   \n\n   Dur. (ms)          IMSI  MSISDN/Number          IMEI  \\\n0  1823652.0  2.082014e+14   3.366496e+10  3.552121e+13   \n1  1365104.0  2.082019e+14   3.368185e+10  3.579401e+13   \n2  1361762.0  2.082003e+14   3.376063e+10  3.528151e+13   \n3  1321509.0  2.082014e+14   3.375034e+10  3.535661e+13   \n4  1089009.0  2.082014e+14   3.369980e+10  3.540701e+13   \n\n      Last Location Name  ...  Youtube DL (Bytes)  Youtube UL (Bytes)  \\\n0  9.16456699548519E+015  ...          15854611.0           2501332.0   \n1                L77566A  ...          20247395.0          19111729.0   \n2                D42335A  ...          19725661.0          14699576.0   \n3                T21824A  ...          21388122.0          15146643.0   \n4                D88865A  ...          15259380.0          18962873.0   \n\n   Netflix DL (Bytes)  Netflix UL (Bytes)  Gaming DL (Bytes)  \\\n0           8198936.0           9656251.0        278082303.0   \n1          18338413.0          17227132.0        608750074.0   \n2          17587794.0           6163408.0        229584621.0   \n3          13994646.0           1097942.0        799538153.0   \n4          17124581.0            415218.0        527707248.0   \n\n   Gaming UL (Bytes)  Other DL (Bytes)  Other UL (Bytes)  Total UL (Bytes)  \\\n0         14344150.0       171744450.0         8814393.0        36749741.0   \n1          1170709.0       526904238.0        15055145.0        53800391.0   \n2           395630.0       410692588.0         4215763.0        27883638.0   \n3         10849722.0       749039933.0        12797283.0        43324218.0   \n4          3529801.0       550709500.0        13910322.0        38542814.0   \n\n   Total DL (Bytes)  \n0       308879636.0  \n1       653384965.0  \n2       279807335.0  \n3       846028530.0  \n4       569138589.0  \n\n[5 rows x 55 columns]",
      "text/html": "<div>\n<style scoped>\n    .dataframe tbody tr th:only-of-type {\n        vertical-align: middle;\n    }\n\n    .dataframe tbody tr th {\n        vertical-align: top;\n    }\n\n    .dataframe thead th {\n        text-align: right;\n    }\n</style>\n<table border=\"1\" class=\"dataframe\">\n  <thead>\n    <tr style=\"text-align: right;\">\n      <th></th>\n      <th>Bearer Id</th>\n      <th>Start</th>\n      <th>Start ms</th>\n      <th>End</th>\n      <th>End ms</th>\n      <th>Dur. (ms)</th>\n      <th>IMSI</th>\n      <th>MSISDN/Number</th>\n      <th>IMEI</th>\n      <th>Last Location Name</th>\n      <th>...</th>\n      <th>Youtube DL (Bytes)</th>\n      <th>Youtube UL (Bytes)</th>\n      <th>Netflix DL (Bytes)</th>\n      <th>Netflix UL (Bytes)</th>\n      <th>Gaming DL (Bytes)</th>\n      <th>Gaming UL (Bytes)</th>\n      <th>Other DL (Bytes)</th>\n      <th>Other UL (Bytes)</th>\n      <th>Total UL (Bytes)</th>\n      <th>Total DL (Bytes)</th>\n    </tr>\n  </thead>\n  <tbody>\n    <tr>\n      <th>0</th>\n      <td>1.311448e+19</td>\n      <td>4/4/2019 12:01</td>\n      <td>770.0</td>\n      <td>4/25/2019 14:35</td>\n      <td>662.0</td>\n      <td>1823652.0</td>\n      <td>2.082014e+14</td>\n      <td>3.366496e+10</td>\n      <td>3.552121e+13</td>\n      <td>9.16456699548519E+015</td>\n      <td>...</td>\n      <td>15854611.0</td>\n      <td>2501332.0</td>\n      <td>8198936.0</td>\n      <td>9656251.0</td>\n      <td>278082303.0</td>\n      <td>14344150.0</td>\n      <td>171744450.0</td>\n      <td>8814393.0</td>\n      <td>36749741.0</td>\n      <td>308879636.0</td>\n    </tr>\n    <tr>\n      <th>1</th>\n      <td>1.311448e+19</td>\n      <td>4/9/2019 13:04</td>\n      <td>235.0</td>\n      <td>4/25/2019 8:15</td>\n      <td>606.0</td>\n      <td>1365104.0</td>\n      <td>2.082019e+14</td>\n      <td>3.368185e+10</td>\n      <td>3.579401e+13</td>\n      <td>L77566A</td>\n      <td>...</td>\n      <td>20247395.0</td>\n      <td>19111729.0</td>\n      <td>18338413.0</td>\n      <td>17227132.0</td>\n      <td>608750074.0</td>\n      <td>1170709.0</td>\n      <td>526904238.0</td>\n      <td>15055145.0</td>\n      <td>53800391.0</td>\n      <td>653384965.0</td>\n    </tr>\n    <tr>\n      <th>2</th>\n      <td>1.311448e+19</td>\n      <td>4/9/2019 17:42</td>\n      <td>1.0</td>\n      <td>4/25/2019 11:58</td>\n      <td>652.0</td>\n      <td>1361762.0</td>\n      <td>2.082003e+14</td>\n      <td>3.376063e+10</td>\n      <td>3.528151e+13</td>\n      <td>D42335A</td>\n      <td>...</td>\n      <td>19725661.0</td>\n      <td>14699576.0</td>\n      <td>17587794.0</td>\n      <td>6163408.0</td>\n      <td>229584621.0</td>\n      <td>395630.0</td>\n      <td>410692588.0</td>\n      <td>4215763.0</td>\n      <td>27883638.0</td>\n      <td>279807335.0</td>\n    </tr>\n    <tr>\n      <th>3</th>\n      <td>1.311448e+19</td>\n      <td>4/10/2019 0:31</td>\n      <td>486.0</td>\n      <td>4/25/2019 7:36</td>\n      <td>171.0</td>\n      <td>1321509.0</td>\n      <td>2.082014e+14</td>\n      <td>3.375034e+10</td>\n      <td>3.535661e+13</td>\n      <td>T21824A</td>\n      <td>...</td>\n      <td>21388122.0</td>\n      <td>15146643.0</td>\n      <td>13994646.0</td>\n      <td>1097942.0</td>\n      <td>799538153.0</td>\n      <td>10849722.0</td>\n      <td>749039933.0</td>\n      <td>12797283.0</td>\n      <td>43324218.0</td>\n      <td>846028530.0</td>\n    </tr>\n    <tr>\n      <th>4</th>\n      <td>1.311448e+19</td>\n      <td>4/12/2019 20:10</td>\n      <td>565.0</td>\n      <td>4/25/2019 10:40</td>\n      <td>954.0</td>\n      <td>1089009.0</td>\n      <td>2.082014e+14</td>\n      <td>3.369980e+10</td>\n      <td>3.540701e+13</td>\n      <td>D88865A</td>\n      <td>...</td>\n      <td>15259380.0</td>\n      <td>18962873.0</td>\n      <td>17124581.0</td>\n      <td>415218.0</td>\n      <td>527707248.0</td>\n      <td>3529801.0</td>\n      <td>550709500.0</td>\n      <td>13910322.0</td>\n      <td>38542814.0</td>\n      <td>569138589.0</td>\n    </tr>\n  </tbody>\n</table>\n<p>5 rows × 55 columns</p>\n</div>"
     },
     "execution_count": 2,
     "metadata": {},
     "output_type": "execute_result"
    }
   ],
   "source": [
    "df = pd.read_csv('../data/Week1_challenge_data_source(CSV).csv')\n",
    "df.head()"
   ],
   "metadata": {
    "collapsed": false,
    "pycharm": {
     "name": "#%%\n"
    }
   }
  },
  {
   "cell_type": "code",
   "execution_count": 3,
   "outputs": [
    {
     "name": "stdout",
     "output_type": "stream",
     "text": [
      "The dataset has 1031392 missing values\n",
      "The Diabetes dataset contains 12.5 % missing values.\n"
     ]
    }
   ],
   "source": [
    "def percent_missing(db):\n",
    "\n",
    "    # Calculate total number of cells in dataframe\n",
    "    totalCells = np.product(db.shape)\n",
    "\n",
    "    # Count number of missing values per column\n",
    "    missingCount = db.isnull().sum()\n",
    "\n",
    "    # Calculate total number of missing values\n",
    "    totalMissing = missingCount.sum()\n",
    "\n",
    "    print(f'The dataset has {totalMissing} missing values')\n",
    "\n",
    "    # Calculate percentage of missing values\n",
    "    print(\"The Diabetes dataset contains\", round(((totalMissing/totalCells) * 100), 2), \"%\", \"missing values.\")\n",
    "\n",
    "percent_missing(df)"
   ],
   "metadata": {
    "collapsed": false,
    "pycharm": {
     "name": "#%%\n"
    }
   }
  },
  {
   "cell_type": "code",
   "execution_count": 4,
   "outputs": [
    {
     "data": {
      "text/plain": "Bearer Id                                      991\nStart                                            1\nStart ms                                         1\nEnd                                              1\nEnd ms                                           1\nDur. (ms)                                        1\nIMSI                                           570\nMSISDN/Number                                 1066\nIMEI                                           572\nLast Location Name                            1153\nAvg RTT DL (ms)                              27829\nAvg RTT UL (ms)                              27812\nAvg Bearer TP DL (kbps)                          1\nAvg Bearer TP UL (kbps)                          1\nTCP DL Retrans. Vol (Bytes)                  88146\nTCP UL Retrans. Vol (Bytes)                  96649\nDL TP < 50 Kbps (%)                            754\n50 Kbps < DL TP < 250 Kbps (%)                 754\n250 Kbps < DL TP < 1 Mbps (%)                  754\nDL TP > 1 Mbps (%)                             754\nUL TP < 10 Kbps (%)                            792\n10 Kbps < UL TP < 50 Kbps (%)                  792\n50 Kbps < UL TP < 300 Kbps (%)                 792\nUL TP > 300 Kbps (%)                           792\nHTTP DL (Bytes)                              81474\nHTTP UL (Bytes)                              81810\nActivity Duration DL (ms)                        1\nActivity Duration UL (ms)                        1\nDur. (ms).1                                      1\nHandset Manufacturer                           572\nHandset Type                                   572\nNb of sec with 125000B < Vol DL              97538\nNb of sec with 1250B < Vol UL < 6250B        92894\nNb of sec with 31250B < Vol DL < 125000B     93586\nNb of sec with 37500B < Vol UL              130254\nNb of sec with 6250B < Vol DL < 31250B       88317\nNb of sec with 6250B < Vol UL < 37500B      111843\nNb of sec with Vol DL < 6250B                  755\nNb of sec with Vol UL < 1250B                  793\nSocial Media DL (Bytes)                          0\nSocial Media UL (Bytes)                          0\nGoogle DL (Bytes)                                0\nGoogle UL (Bytes)                                0\nEmail DL (Bytes)                                 0\nEmail UL (Bytes)                                 0\nYoutube DL (Bytes)                               0\nYoutube UL (Bytes)                               0\nNetflix DL (Bytes)                               0\nNetflix UL (Bytes)                               0\nGaming DL (Bytes)                                0\nGaming UL (Bytes)                                0\nOther DL (Bytes)                                 0\nOther UL (Bytes)                                 0\nTotal UL (Bytes)                                 1\nTotal DL (Bytes)                                 1\ndtype: int64"
     },
     "execution_count": 4,
     "metadata": {},
     "output_type": "execute_result"
    }
   ],
   "source": [
    "df.isna().sum()"
   ],
   "metadata": {
    "collapsed": false,
    "pycharm": {
     "name": "#%%\n"
    }
   }
  },
  {
   "cell_type": "code",
   "execution_count": 5,
   "outputs": [
    {
     "name": "stderr",
     "output_type": "stream",
     "text": [
      "/home/sennay/anaconda3/envs/week-1/lib/python3.7/site-packages/ipykernel_launcher.py:1: FutureWarning: Dropping of nuisance columns in DataFrame reductions (with 'numeric_only=None') is deprecated; in a future version this will raise TypeError.  Select only valid columns before calling the reduction.\n",
      "  \"\"\"Entry point for launching an IPython kernel.\n"
     ]
    },
    {
     "data": {
      "text/plain": "Bearer Id                                     0.026666\nStart ms                                      0.000968\nEnd ms                                       -0.001163\nDur. (ms)                                     3.952609\nIMSI                                         41.045956\nMSISDN/Number                               332.155856\nIMEI                                          1.071470\nAvg RTT DL (ms)                              62.907828\nAvg RTT UL (ms)                              28.457415\nAvg Bearer TP DL (kbps)                       2.589437\nAvg Bearer TP UL (kbps)                       4.503413\nTCP DL Retrans. Vol (Bytes)                  15.951809\nTCP UL Retrans. Vol (Bytes)                  84.113393\nDL TP < 50 Kbps (%)                          -2.297803\n50 Kbps < DL TP < 250 Kbps (%)                3.271453\n250 Kbps < DL TP < 1 Mbps (%)                 4.566158\nDL TP > 1 Mbps (%)                            5.370351\nUL TP < 10 Kbps (%)                          -8.985016\n10 Kbps < UL TP < 50 Kbps (%)                10.943888\n50 Kbps < UL TP < 300 Kbps (%)               21.878495\nUL TP > 300 Kbps (%)                         36.174053\nHTTP DL (Bytes)                              38.944710\nHTTP UL (Bytes)                              32.474970\nActivity Duration DL (ms)                     5.872256\nActivity Duration UL (ms)                     7.382557\nDur. (ms).1                                   3.952609\nNb of sec with 125000B < Vol DL               6.592502\nNb of sec with 1250B < Vol UL < 6250B        22.035745\nNb of sec with 31250B < Vol DL < 125000B      6.610541\nNb of sec with 37500B < Vol UL               21.560028\nNb of sec with 6250B < Vol DL < 31250B        6.896050\nNb of sec with 6250B < Vol UL < 37500B       19.642752\nNb of sec with Vol DL < 6250B                 9.042166\nNb of sec with Vol UL < 1250B                 7.495176\nSocial Media DL (Bytes)                      -0.002136\nSocial Media UL (Bytes)                      -0.000359\nGoogle DL (Bytes)                            -0.008092\nGoogle UL (Bytes)                             0.002216\nEmail DL (Bytes)                             -0.002463\nEmail UL (Bytes)                              0.007358\nYoutube DL (Bytes)                            0.000231\nYoutube UL (Bytes)                           -0.001142\nNetflix DL (Bytes)                           -0.002442\nNetflix UL (Bytes)                           -0.000113\nGaming DL (Bytes)                            -0.003460\nGaming UL (Bytes)                            -0.001840\nOther DL (Bytes)                              0.001400\nOther UL (Bytes)                              0.001392\nTotal UL (Bytes)                             -0.002456\nTotal DL (Bytes)                             -0.003153\ndtype: float64"
     },
     "execution_count": 5,
     "metadata": {},
     "output_type": "execute_result"
    }
   ],
   "source": [
    "df.skew(axis=0)"
   ],
   "metadata": {
    "collapsed": false,
    "pycharm": {
     "name": "#%%\n"
    }
   }
  },
  {
   "cell_type": "code",
   "execution_count": 6,
   "outputs": [
    {
     "data": {
      "text/plain": "Bearer Id                                   float64\nStart                                        object\nStart ms                                    float64\nEnd                                          object\nEnd ms                                      float64\nDur. (ms)                                   float64\nIMSI                                        float64\nMSISDN/Number                               float64\nIMEI                                        float64\nLast Location Name                           object\nAvg RTT DL (ms)                             float64\nAvg RTT UL (ms)                             float64\nAvg Bearer TP DL (kbps)                     float64\nAvg Bearer TP UL (kbps)                     float64\nTCP DL Retrans. Vol (Bytes)                 float64\nTCP UL Retrans. Vol (Bytes)                 float64\nDL TP < 50 Kbps (%)                         float64\n50 Kbps < DL TP < 250 Kbps (%)              float64\n250 Kbps < DL TP < 1 Mbps (%)               float64\nDL TP > 1 Mbps (%)                          float64\nUL TP < 10 Kbps (%)                         float64\n10 Kbps < UL TP < 50 Kbps (%)               float64\n50 Kbps < UL TP < 300 Kbps (%)              float64\nUL TP > 300 Kbps (%)                        float64\nHTTP DL (Bytes)                             float64\nHTTP UL (Bytes)                             float64\nActivity Duration DL (ms)                   float64\nActivity Duration UL (ms)                   float64\nDur. (ms).1                                 float64\nHandset Manufacturer                         object\nHandset Type                                 object\nNb of sec with 125000B < Vol DL             float64\nNb of sec with 1250B < Vol UL < 6250B       float64\nNb of sec with 31250B < Vol DL < 125000B    float64\nNb of sec with 37500B < Vol UL              float64\nNb of sec with 6250B < Vol DL < 31250B      float64\nNb of sec with 6250B < Vol UL < 37500B      float64\nNb of sec with Vol DL < 6250B               float64\nNb of sec with Vol UL < 1250B               float64\nSocial Media DL (Bytes)                     float64\nSocial Media UL (Bytes)                     float64\nGoogle DL (Bytes)                           float64\nGoogle UL (Bytes)                           float64\nEmail DL (Bytes)                            float64\nEmail UL (Bytes)                            float64\nYoutube DL (Bytes)                          float64\nYoutube UL (Bytes)                          float64\nNetflix DL (Bytes)                          float64\nNetflix UL (Bytes)                          float64\nGaming DL (Bytes)                           float64\nGaming UL (Bytes)                           float64\nOther DL (Bytes)                            float64\nOther UL (Bytes)                            float64\nTotal UL (Bytes)                            float64\nTotal DL (Bytes)                            float64\ndtype: object"
     },
     "execution_count": 6,
     "metadata": {},
     "output_type": "execute_result"
    }
   ],
   "source": [
    "df.dtypes"
   ],
   "metadata": {
    "collapsed": false,
    "pycharm": {
     "name": "#%%\n"
    }
   }
  },
  {
   "cell_type": "code",
   "execution_count": 7,
   "outputs": [
    {
     "data": {
      "text/plain": "Bearer Id                                        0\nStart                                            0\nStart ms                                         0\nEnd                                              0\nEnd ms                                           0\nDur. (ms)                                        0\nIMSI                                             0\nMSISDN/Number                                    0\nIMEI                                             0\nLast Location Name                             160\nAvg RTT DL (ms)                              27636\nAvg RTT UL (ms)                              27616\nAvg Bearer TP DL (kbps)                          0\nAvg Bearer TP UL (kbps)                          0\nTCP DL Retrans. Vol (Bytes)                  87764\nTCP UL Retrans. Vol (Bytes)                  96128\nDL TP < 50 Kbps (%)                            712\n50 Kbps < DL TP < 250 Kbps (%)                 712\n250 Kbps < DL TP < 1 Mbps (%)                  712\nDL TP > 1 Mbps (%)                             712\nUL TP < 10 Kbps (%)                            767\n10 Kbps < UL TP < 50 Kbps (%)                  767\n50 Kbps < UL TP < 300 Kbps (%)                 767\nUL TP > 300 Kbps (%)                           767\nHTTP DL (Bytes)                              81129\nHTTP UL (Bytes)                              81475\nActivity Duration DL (ms)                        0\nActivity Duration UL (ms)                        0\nDur. (ms).1                                      0\nHandset Manufacturer                             0\nHandset Type                                     0\nNb of sec with 125000B < Vol DL              96775\nNb of sec with 1250B < Vol UL < 6250B        92269\nNb of sec with 31250B < Vol DL < 125000B     92978\nNb of sec with 37500B < Vol UL              128950\nNb of sec with 6250B < Vol DL < 31250B       87838\nNb of sec with 6250B < Vol UL < 37500B      110803\nNb of sec with Vol DL < 6250B                  713\nNb of sec with Vol UL < 1250B                  768\nSocial Media DL (Bytes)                          0\nSocial Media UL (Bytes)                          0\nGoogle DL (Bytes)                                0\nGoogle UL (Bytes)                                0\nEmail DL (Bytes)                                 0\nEmail UL (Bytes)                                 0\nYoutube DL (Bytes)                               0\nYoutube UL (Bytes)                               0\nNetflix DL (Bytes)                               0\nNetflix UL (Bytes)                               0\nGaming DL (Bytes)                                0\nGaming UL (Bytes)                                0\nOther DL (Bytes)                                 0\nOther UL (Bytes)                                 0\nTotal UL (Bytes)                                 0\nTotal DL (Bytes)                                 0\ndtype: int64"
     },
     "execution_count": 7,
     "metadata": {},
     "output_type": "execute_result"
    }
   ],
   "source": [
    "clean = df[df['Bearer Id'].notna()]\n",
    "clean = clean[clean['MSISDN/Number'].notna()]\n",
    "clean.isna().sum()"
   ],
   "metadata": {
    "collapsed": false,
    "pycharm": {
     "name": "#%%\n"
    }
   }
  },
  {
   "cell_type": "code",
   "execution_count": 8,
   "outputs": [],
   "source": [
    "def fill_with_mod(db, col):\n",
    "    db[col] = db[col].fillna(db[col].mode()[0])"
   ],
   "metadata": {
    "collapsed": false,
    "pycharm": {
     "name": "#%%\n"
    }
   }
  },
  {
   "cell_type": "code",
   "execution_count": 9,
   "outputs": [
    {
     "data": {
      "text/plain": "(148506, 55)"
     },
     "execution_count": 9,
     "metadata": {},
     "output_type": "execute_result"
    }
   ],
   "source": [
    "clean.shape"
   ],
   "metadata": {
    "collapsed": false,
    "pycharm": {
     "name": "#%%\n"
    }
   }
  },
  {
   "cell_type": "code",
   "execution_count": 10,
   "outputs": [],
   "source": [
    "fill_with_mod(clean,'MSISDN/Number')\n",
    "fill_with_mod(clean,'IMSI')\n",
    "fill_with_mod(clean,'IMEI')\n",
    "fill_with_mod(clean,'Last Location Name')\n",
    "fill_with_mod(clean,'Avg RTT DL (ms)')\n",
    "fill_with_mod(clean,'Avg RTT UL (ms)')\n",
    "fill_with_mod(clean,'TCP DL Retrans. Vol (Bytes)')\n",
    "fill_with_mod(clean,'TCP UL Retrans. Vol (Bytes)')\n",
    "fill_with_mod(clean,'DL TP < 50 Kbps (%)')\n",
    "fill_with_mod(clean,'50 Kbps < DL TP < 250 Kbps (%)')\n",
    "fill_with_mod(clean,'250 Kbps < DL TP < 1 Mbps (%)')\n",
    "fill_with_mod(clean,'DL TP > 1 Mbps (%)')\n",
    "fill_with_mod(clean,'UL TP < 10 Kbps (%)')\n",
    "fill_with_mod(clean,'10 Kbps < UL TP < 50 Kbps (%)')\n",
    "fill_with_mod(clean,'50 Kbps < UL TP < 300 Kbps (%)')\n",
    "fill_with_mod(clean,'UL TP > 300 Kbps (%)')\n",
    "fill_with_mod(clean,'HTTP DL (Bytes)')\n",
    "fill_with_mod(clean,'HTTP UL (Bytes)')\n",
    "fill_with_mod(clean,'Handset Manufacturer')\n",
    "fill_with_mod(clean,'Handset Type')\n",
    "fill_with_mod(clean,'Nb of sec with 125000B < Vol DL')\n",
    "fill_with_mod(clean,'Nb of sec with 1250B < Vol UL < 6250B')\n",
    "fill_with_mod(clean,'Nb of sec with 31250B < Vol DL < 125000B')\n",
    "fill_with_mod(clean,'Nb of sec with 37500B < Vol UL')\n",
    "fill_with_mod(clean,'Nb of sec with 6250B < Vol DL < 31250B')\n",
    "fill_with_mod(clean,'Nb of sec with 6250B < Vol UL < 37500B')\n",
    "fill_with_mod(clean,'Nb of sec with Vol DL < 6250B')\n",
    "fill_with_mod(clean,'Nb of sec with Vol UL < 1250B')\n"
   ],
   "metadata": {
    "collapsed": false,
    "pycharm": {
     "name": "#%%\n"
    }
   }
  },
  {
   "cell_type": "code",
   "execution_count": 11,
   "outputs": [
    {
     "data": {
      "text/plain": "(148506, 55)"
     },
     "execution_count": 11,
     "metadata": {},
     "output_type": "execute_result"
    }
   ],
   "source": [
    "clean.shape"
   ],
   "metadata": {
    "collapsed": false,
    "pycharm": {
     "name": "#%%\n"
    }
   }
  },
  {
   "cell_type": "code",
   "execution_count": 12,
   "outputs": [
    {
     "data": {
      "text/plain": "Bearer Id                                   0\nStart                                       0\nStart ms                                    0\nEnd                                         0\nEnd ms                                      0\nDur. (ms)                                   0\nIMSI                                        0\nMSISDN/Number                               0\nIMEI                                        0\nLast Location Name                          0\nAvg RTT DL (ms)                             0\nAvg RTT UL (ms)                             0\nAvg Bearer TP DL (kbps)                     0\nAvg Bearer TP UL (kbps)                     0\nTCP DL Retrans. Vol (Bytes)                 0\nTCP UL Retrans. Vol (Bytes)                 0\nDL TP < 50 Kbps (%)                         0\n50 Kbps < DL TP < 250 Kbps (%)              0\n250 Kbps < DL TP < 1 Mbps (%)               0\nDL TP > 1 Mbps (%)                          0\nUL TP < 10 Kbps (%)                         0\n10 Kbps < UL TP < 50 Kbps (%)               0\n50 Kbps < UL TP < 300 Kbps (%)              0\nUL TP > 300 Kbps (%)                        0\nHTTP DL (Bytes)                             0\nHTTP UL (Bytes)                             0\nActivity Duration DL (ms)                   0\nActivity Duration UL (ms)                   0\nDur. (ms).1                                 0\nHandset Manufacturer                        0\nHandset Type                                0\nNb of sec with 125000B < Vol DL             0\nNb of sec with 1250B < Vol UL < 6250B       0\nNb of sec with 31250B < Vol DL < 125000B    0\nNb of sec with 37500B < Vol UL              0\nNb of sec with 6250B < Vol DL < 31250B      0\nNb of sec with 6250B < Vol UL < 37500B      0\nNb of sec with Vol DL < 6250B               0\nNb of sec with Vol UL < 1250B               0\nSocial Media DL (Bytes)                     0\nSocial Media UL (Bytes)                     0\nGoogle DL (Bytes)                           0\nGoogle UL (Bytes)                           0\nEmail DL (Bytes)                            0\nEmail UL (Bytes)                            0\nYoutube DL (Bytes)                          0\nYoutube UL (Bytes)                          0\nNetflix DL (Bytes)                          0\nNetflix UL (Bytes)                          0\nGaming DL (Bytes)                           0\nGaming UL (Bytes)                           0\nOther DL (Bytes)                            0\nOther UL (Bytes)                            0\nTotal UL (Bytes)                            0\nTotal DL (Bytes)                            0\ndtype: int64"
     },
     "execution_count": 12,
     "metadata": {},
     "output_type": "execute_result"
    }
   ],
   "source": [
    "clean.isna().sum()"
   ],
   "metadata": {
    "collapsed": false,
    "pycharm": {
     "name": "#%%\n"
    }
   }
  },
  {
   "cell_type": "code",
   "execution_count": 13,
   "outputs": [
    {
     "data": {
      "text/plain": "MSISDN/Number\n3.360100e+10    1\n3.360100e+10    1\n3.360100e+10    1\n3.360101e+10    1\n3.360101e+10    2\n               ..\n3.379000e+10    1\n3.379000e+10    1\n3.197021e+12    1\n3.370000e+14    1\n8.823971e+14    1\nName: Bearer Id, Length: 106471, dtype: int64"
     },
     "execution_count": 13,
     "metadata": {},
     "output_type": "execute_result"
    }
   ],
   "source": [
    "xdr_session_count = clean.groupby('MSISDN/Number')['Bearer Id'].count()\n",
    "xdr_session_count"
   ],
   "metadata": {
    "collapsed": false,
    "pycharm": {
     "name": "#%%\n"
    }
   }
  },
  {
   "cell_type": "code",
   "execution_count": 14,
   "outputs": [
    {
     "data": {
      "text/plain": "MSISDN/Number\n3.360100e+10    116720.0\n3.360100e+10    181230.0\n3.360100e+10    134969.0\n3.360101e+10     49878.0\n3.360101e+10     37104.0\n                  ...   \n3.379000e+10      8810.0\n3.379000e+10    140988.0\n3.197021e+12    877385.0\n3.370000e+14    253030.0\n8.823971e+14    869844.0\nName: Dur. (ms), Length: 106471, dtype: float64"
     },
     "execution_count": 14,
     "metadata": {},
     "output_type": "execute_result"
    }
   ],
   "source": [
    "session_duration = clean.groupby('MSISDN/Number')['Dur. (ms)'].sum()\n",
    "session_duration"
   ],
   "metadata": {
    "collapsed": false,
    "pycharm": {
     "name": "#%%\n"
    }
   }
  },
  {
   "cell_type": "code",
   "execution_count": 15,
   "outputs": [
    {
     "name": "stderr",
     "output_type": "stream",
     "text": [
      "/home/sennay/anaconda3/envs/week-1/lib/python3.7/site-packages/ipykernel_launcher.py:1: FutureWarning: Indexing with multiple keys (implicitly converted to a tuple of keys) will be deprecated, use a list instead.\n",
      "  \"\"\"Entry point for launching an IPython kernel.\n"
     ]
    },
    {
     "data": {
      "text/plain": "               Total DL (Bytes)  Total UL (Bytes)\nMSISDN/Number                                    \n3.360100e+10       8.426375e+08        36053108.0\n3.360100e+10       1.207552e+08        36104459.0\n3.360100e+10       5.566597e+08        39306820.0\n3.360101e+10       4.019932e+08        20327526.0\n3.360101e+10       1.363130e+09        94280527.0\n...                         ...               ...\n3.379000e+10       6.879252e+08        26716429.0\n3.379000e+10       4.445751e+08        35732243.0\n3.197021e+12       1.948281e+08        37295915.0\n3.370000e+14       5.396350e+08        56652839.0\n8.823971e+14       7.869760e+07        60456049.0\n\n[106471 rows x 2 columns]",
      "text/html": "<div>\n<style scoped>\n    .dataframe tbody tr th:only-of-type {\n        vertical-align: middle;\n    }\n\n    .dataframe tbody tr th {\n        vertical-align: top;\n    }\n\n    .dataframe thead th {\n        text-align: right;\n    }\n</style>\n<table border=\"1\" class=\"dataframe\">\n  <thead>\n    <tr style=\"text-align: right;\">\n      <th></th>\n      <th>Total DL (Bytes)</th>\n      <th>Total UL (Bytes)</th>\n    </tr>\n    <tr>\n      <th>MSISDN/Number</th>\n      <th></th>\n      <th></th>\n    </tr>\n  </thead>\n  <tbody>\n    <tr>\n      <th>3.360100e+10</th>\n      <td>8.426375e+08</td>\n      <td>36053108.0</td>\n    </tr>\n    <tr>\n      <th>3.360100e+10</th>\n      <td>1.207552e+08</td>\n      <td>36104459.0</td>\n    </tr>\n    <tr>\n      <th>3.360100e+10</th>\n      <td>5.566597e+08</td>\n      <td>39306820.0</td>\n    </tr>\n    <tr>\n      <th>3.360101e+10</th>\n      <td>4.019932e+08</td>\n      <td>20327526.0</td>\n    </tr>\n    <tr>\n      <th>3.360101e+10</th>\n      <td>1.363130e+09</td>\n      <td>94280527.0</td>\n    </tr>\n    <tr>\n      <th>...</th>\n      <td>...</td>\n      <td>...</td>\n    </tr>\n    <tr>\n      <th>3.379000e+10</th>\n      <td>6.879252e+08</td>\n      <td>26716429.0</td>\n    </tr>\n    <tr>\n      <th>3.379000e+10</th>\n      <td>4.445751e+08</td>\n      <td>35732243.0</td>\n    </tr>\n    <tr>\n      <th>3.197021e+12</th>\n      <td>1.948281e+08</td>\n      <td>37295915.0</td>\n    </tr>\n    <tr>\n      <th>3.370000e+14</th>\n      <td>5.396350e+08</td>\n      <td>56652839.0</td>\n    </tr>\n    <tr>\n      <th>8.823971e+14</th>\n      <td>7.869760e+07</td>\n      <td>60456049.0</td>\n    </tr>\n  </tbody>\n</table>\n<p>106471 rows × 2 columns</p>\n</div>"
     },
     "execution_count": 15,
     "metadata": {},
     "output_type": "execute_result"
    }
   ],
   "source": [
    "total_upl_dwn = clean.groupby(['MSISDN/Number'])['Total DL (Bytes)','Total UL (Bytes)'].sum()\n",
    "total_upl_dwn"
   ],
   "metadata": {
    "collapsed": false,
    "pycharm": {
     "name": "#%%\n"
    }
   }
  },
  {
   "cell_type": "code",
   "execution_count": 16,
   "outputs": [
    {
     "data": {
      "text/plain": "      Bearer Id            Start  Start ms              End  End ms  \\\n0  1.311448e+19   4/4/2019 12:01     770.0  4/25/2019 14:35   662.0   \n1  1.311448e+19   4/9/2019 13:04     235.0   4/25/2019 8:15   606.0   \n2  1.311448e+19   4/9/2019 17:42       1.0  4/25/2019 11:58   652.0   \n3  1.311448e+19   4/10/2019 0:31     486.0   4/25/2019 7:36   171.0   \n4  1.311448e+19  4/12/2019 20:10     565.0  4/25/2019 10:40   954.0   \n\n   Dur. (ms)          IMSI  MSISDN/Number          IMEI  \\\n0  1823652.0  2.082014e+14   3.366496e+10  3.552121e+13   \n1  1365104.0  2.082019e+14   3.368185e+10  3.579401e+13   \n2  1361762.0  2.082003e+14   3.376063e+10  3.528151e+13   \n3  1321509.0  2.082014e+14   3.375034e+10  3.535661e+13   \n4  1089009.0  2.082014e+14   3.369980e+10  3.540701e+13   \n\n      Last Location Name  ...  Youtube DL (Bytes)  Youtube UL (Bytes)  \\\n0  9.16456699548519E+015  ...          15854611.0           2501332.0   \n1                L77566A  ...          20247395.0          19111729.0   \n2                D42335A  ...          19725661.0          14699576.0   \n3                T21824A  ...          21388122.0          15146643.0   \n4                D88865A  ...          15259380.0          18962873.0   \n\n   Netflix DL (Bytes)  Netflix UL (Bytes)  Gaming DL (Bytes)  \\\n0           8198936.0           9656251.0        278082303.0   \n1          18338413.0          17227132.0        608750074.0   \n2          17587794.0           6163408.0        229584621.0   \n3          13994646.0           1097942.0        799538153.0   \n4          17124581.0            415218.0        527707248.0   \n\n   Gaming UL (Bytes)  Other DL (Bytes)  Other UL (Bytes)  Total UL (Bytes)  \\\n0         14344150.0       171744450.0         8814393.0        36749741.0   \n1          1170709.0       526904238.0        15055145.0        53800391.0   \n2           395630.0       410692588.0         4215763.0        27883638.0   \n3         10849722.0       749039933.0        12797283.0        43324218.0   \n4          3529801.0       550709500.0        13910322.0        38542814.0   \n\n   Total DL (Bytes)  \n0       308879636.0  \n1       653384965.0  \n2       279807335.0  \n3       846028530.0  \n4       569138589.0  \n\n[5 rows x 55 columns]",
      "text/html": "<div>\n<style scoped>\n    .dataframe tbody tr th:only-of-type {\n        vertical-align: middle;\n    }\n\n    .dataframe tbody tr th {\n        vertical-align: top;\n    }\n\n    .dataframe thead th {\n        text-align: right;\n    }\n</style>\n<table border=\"1\" class=\"dataframe\">\n  <thead>\n    <tr style=\"text-align: right;\">\n      <th></th>\n      <th>Bearer Id</th>\n      <th>Start</th>\n      <th>Start ms</th>\n      <th>End</th>\n      <th>End ms</th>\n      <th>Dur. (ms)</th>\n      <th>IMSI</th>\n      <th>MSISDN/Number</th>\n      <th>IMEI</th>\n      <th>Last Location Name</th>\n      <th>...</th>\n      <th>Youtube DL (Bytes)</th>\n      <th>Youtube UL (Bytes)</th>\n      <th>Netflix DL (Bytes)</th>\n      <th>Netflix UL (Bytes)</th>\n      <th>Gaming DL (Bytes)</th>\n      <th>Gaming UL (Bytes)</th>\n      <th>Other DL (Bytes)</th>\n      <th>Other UL (Bytes)</th>\n      <th>Total UL (Bytes)</th>\n      <th>Total DL (Bytes)</th>\n    </tr>\n  </thead>\n  <tbody>\n    <tr>\n      <th>0</th>\n      <td>1.311448e+19</td>\n      <td>4/4/2019 12:01</td>\n      <td>770.0</td>\n      <td>4/25/2019 14:35</td>\n      <td>662.0</td>\n      <td>1823652.0</td>\n      <td>2.082014e+14</td>\n      <td>3.366496e+10</td>\n      <td>3.552121e+13</td>\n      <td>9.16456699548519E+015</td>\n      <td>...</td>\n      <td>15854611.0</td>\n      <td>2501332.0</td>\n      <td>8198936.0</td>\n      <td>9656251.0</td>\n      <td>278082303.0</td>\n      <td>14344150.0</td>\n      <td>171744450.0</td>\n      <td>8814393.0</td>\n      <td>36749741.0</td>\n      <td>308879636.0</td>\n    </tr>\n    <tr>\n      <th>1</th>\n      <td>1.311448e+19</td>\n      <td>4/9/2019 13:04</td>\n      <td>235.0</td>\n      <td>4/25/2019 8:15</td>\n      <td>606.0</td>\n      <td>1365104.0</td>\n      <td>2.082019e+14</td>\n      <td>3.368185e+10</td>\n      <td>3.579401e+13</td>\n      <td>L77566A</td>\n      <td>...</td>\n      <td>20247395.0</td>\n      <td>19111729.0</td>\n      <td>18338413.0</td>\n      <td>17227132.0</td>\n      <td>608750074.0</td>\n      <td>1170709.0</td>\n      <td>526904238.0</td>\n      <td>15055145.0</td>\n      <td>53800391.0</td>\n      <td>653384965.0</td>\n    </tr>\n    <tr>\n      <th>2</th>\n      <td>1.311448e+19</td>\n      <td>4/9/2019 17:42</td>\n      <td>1.0</td>\n      <td>4/25/2019 11:58</td>\n      <td>652.0</td>\n      <td>1361762.0</td>\n      <td>2.082003e+14</td>\n      <td>3.376063e+10</td>\n      <td>3.528151e+13</td>\n      <td>D42335A</td>\n      <td>...</td>\n      <td>19725661.0</td>\n      <td>14699576.0</td>\n      <td>17587794.0</td>\n      <td>6163408.0</td>\n      <td>229584621.0</td>\n      <td>395630.0</td>\n      <td>410692588.0</td>\n      <td>4215763.0</td>\n      <td>27883638.0</td>\n      <td>279807335.0</td>\n    </tr>\n    <tr>\n      <th>3</th>\n      <td>1.311448e+19</td>\n      <td>4/10/2019 0:31</td>\n      <td>486.0</td>\n      <td>4/25/2019 7:36</td>\n      <td>171.0</td>\n      <td>1321509.0</td>\n      <td>2.082014e+14</td>\n      <td>3.375034e+10</td>\n      <td>3.535661e+13</td>\n      <td>T21824A</td>\n      <td>...</td>\n      <td>21388122.0</td>\n      <td>15146643.0</td>\n      <td>13994646.0</td>\n      <td>1097942.0</td>\n      <td>799538153.0</td>\n      <td>10849722.0</td>\n      <td>749039933.0</td>\n      <td>12797283.0</td>\n      <td>43324218.0</td>\n      <td>846028530.0</td>\n    </tr>\n    <tr>\n      <th>4</th>\n      <td>1.311448e+19</td>\n      <td>4/12/2019 20:10</td>\n      <td>565.0</td>\n      <td>4/25/2019 10:40</td>\n      <td>954.0</td>\n      <td>1089009.0</td>\n      <td>2.082014e+14</td>\n      <td>3.369980e+10</td>\n      <td>3.540701e+13</td>\n      <td>D88865A</td>\n      <td>...</td>\n      <td>15259380.0</td>\n      <td>18962873.0</td>\n      <td>17124581.0</td>\n      <td>415218.0</td>\n      <td>527707248.0</td>\n      <td>3529801.0</td>\n      <td>550709500.0</td>\n      <td>13910322.0</td>\n      <td>38542814.0</td>\n      <td>569138589.0</td>\n    </tr>\n  </tbody>\n</table>\n<p>5 rows × 55 columns</p>\n</div>"
     },
     "execution_count": 16,
     "metadata": {},
     "output_type": "execute_result"
    }
   ],
   "source": [
    "clean.head()"
   ],
   "metadata": {
    "collapsed": false,
    "pycharm": {
     "name": "#%%\n"
    }
   }
  },
  {
   "cell_type": "code",
   "execution_count": 17,
   "outputs": [],
   "source": [
    "def plot_hist(db:pd.DataFrame, column:str, color:str)->None:\n",
    "    # plt.figure(figsize=(15, 10))\n",
    "    # fig, ax = plt.subplots(1, figsize=(12, 7))\n",
    "    sns.displot(data=db, x=column, color=color, kde=True, height=7, aspect=2)\n",
    "    plt.title(f'Distribution of {column}', size=20, fontweight='bold')\n",
    "    plt.show()\n"
   ],
   "metadata": {
    "collapsed": false,
    "pycharm": {
     "name": "#%%\n"
    }
   }
  },
  {
   "cell_type": "code",
   "execution_count": 18,
   "outputs": [
    {
     "data": {
      "text/plain": "count    106471.000000\nmean          1.394802\nstd           0.806994\nmin           1.000000\n25%           1.000000\n50%           1.000000\n75%           2.000000\nmax          18.000000\nName: Bearer Id, dtype: float64"
     },
     "execution_count": 18,
     "metadata": {},
     "output_type": "execute_result"
    }
   ],
   "source": [
    "xdr_session_count.describe()"
   ],
   "metadata": {
    "collapsed": false,
    "pycharm": {
     "name": "#%%\n"
    }
   }
  },
  {
   "cell_type": "code",
   "execution_count": 19,
   "outputs": [],
   "source": [
    "#plot_hist(session_duration,'MSISDN/Number','green')"
   ],
   "metadata": {
    "collapsed": false,
    "pycharm": {
     "name": "#%%\n"
    }
   }
  },
  {
   "cell_type": "code",
   "execution_count": 20,
   "outputs": [
    {
     "data": {
      "text/plain": "count    1.064710e+05\nmean     6.341665e+08\nstd      4.649855e+08\nmin      8.827082e+06\n25%      3.149874e+08\n50%      5.707321e+08\n75%      8.078265e+08\nmax      8.156743e+09\nName: Total DL (Bytes), dtype: float64"
     },
     "execution_count": 20,
     "metadata": {},
     "output_type": "execute_result"
    }
   ],
   "source": [
    "total_upl_dwn['Total DL (Bytes)'].describe()"
   ],
   "metadata": {
    "collapsed": false,
    "pycharm": {
     "name": "#%%\n"
    }
   }
  },
  {
   "cell_type": "code",
   "execution_count": 21,
   "outputs": [
    {
     "data": {
      "text/plain": "<Figure size 1008x504 with 1 Axes>",
      "image/png": "[encoded data removed]"
     },
     "metadata": {},
     "output_type": "display_data"
    }
   ],
   "source": [
    "plot_hist(total_upl_dwn,'Total DL (Bytes)','green')"
   ],
   "metadata": {
    "collapsed": false,
    "pycharm": {
     "name": "#%%\n"
    }
   }
  },
  {
   "cell_type": "code",
   "execution_count": 22,
   "outputs": [
    {
     "data": {
      "text/plain": "count    1.064710e+05\nmean     5.735340e+07\nstd      3.569660e+07\nmin      2.866892e+06\n25%      3.640196e+07\n50%      4.681312e+07\n75%      6.585986e+07\nmax      7.295774e+08\nName: Total UL (Bytes), dtype: float64"
     },
     "execution_count": 22,
     "metadata": {},
     "output_type": "execute_result"
    }
   ],
   "source": [
    "total_upl_dwn['Total UL (Bytes)'].describe()"
   ],
   "metadata": {
    "collapsed": false,
    "pycharm": {
     "name": "#%%\n"
    }
   }
  },
  {
   "cell_type": "code",
   "execution_count": 23,
   "outputs": [
    {
     "data": {
      "text/plain": "<Figure size 1008x504 with 1 Axes>",
      "image/png": "[encoded data removed]"
     },
     "metadata": {},
     "output_type": "display_data"
    }
   ],
   "source": [
    "plot_hist(total_upl_dwn,'Total UL (Bytes)','green')"
   ],
   "metadata": {
    "collapsed": false,
    "pycharm": {
     "name": "#%%\n"
    }
   }
  },
  {
   "cell_type": "code",
   "execution_count": 23,
   "outputs": [],
   "source": [],
   "metadata": {
    "collapsed": false,
    "pycharm": {
     "name": "#%%\n"
    }
   }
  }
 ],
 "metadata": {
  "kernelspec": {
   "display_name": "Python 3",
   "language": "python",
   "name": "python3"
  },
  "language_info": {
   "codemirror_mode": {
    "name": "ipython",
    "version": 2
   },
   "file_extension": ".py",
   "mimetype": "text/x-python",
   "name": "python",
   "nbconvert_exporter": "python",
   "pygments_lexer": "ipython2",
   "version": "2.7.6"
  }
 },
 "nbformat": 4,
 "nbformat_minor": 0
}